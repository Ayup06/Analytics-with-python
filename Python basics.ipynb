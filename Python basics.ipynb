{
 "cells": [
  {
   "cell_type": "markdown",
   "id": "86b030be",
   "metadata": {},
   "source": [
    "# PYTHON BASICS - Heading"
   ]
  },
  {
   "cell_type": "markdown",
   "id": "33432d24",
   "metadata": {},
   "source": [
    "Markdown"
   ]
  },
  {
   "cell_type": "code",
   "execution_count": 61,
   "id": "a91ef859",
   "metadata": {},
   "outputs": [],
   "source": [
    "# This is where you write a Code"
   ]
  },
  {
   "cell_type": "markdown",
   "id": "51f0ccb0",
   "metadata": {},
   "source": [
    "# Using Python as a Calculator "
   ]
  },
  {
   "cell_type": "code",
   "execution_count": 62,
   "id": "b68f0185",
   "metadata": {},
   "outputs": [
    {
     "data": {
      "text/plain": [
       "6"
      ]
     },
     "execution_count": 62,
     "metadata": {},
     "output_type": "execute_result"
    }
   ],
   "source": [
    "3 + 3 #Addition of two numbers "
   ]
  },
  {
   "cell_type": "code",
   "execution_count": 63,
   "id": "9ef91ccf",
   "metadata": {},
   "outputs": [
    {
     "data": {
      "text/plain": [
       "1"
      ]
     },
     "execution_count": 63,
     "metadata": {},
     "output_type": "execute_result"
    }
   ],
   "source": [
    "4 - 3 #Subtraction of two numbers"
   ]
  },
  {
   "cell_type": "code",
   "execution_count": 64,
   "id": "8a2eaea6",
   "metadata": {},
   "outputs": [
    {
     "data": {
      "text/plain": [
       "8"
      ]
     },
     "execution_count": 64,
     "metadata": {},
     "output_type": "execute_result"
    }
   ],
   "source": [
    "4*2 #Multiplication of two numbers"
   ]
  },
  {
   "cell_type": "code",
   "execution_count": 65,
   "id": "4b1ef623",
   "metadata": {},
   "outputs": [
    {
     "data": {
      "text/plain": [
       "0.8"
      ]
     },
     "execution_count": 65,
     "metadata": {},
     "output_type": "execute_result"
    }
   ],
   "source": [
    "4 / 5 # Division of two numbers returns a floating number - returns quotient"
   ]
  },
  {
   "cell_type": "markdown",
   "id": "e734b39c",
   "metadata": {},
   "source": [
    "### Using \"BODMAS\" Rule "
   ]
  },
  {
   "cell_type": "code",
   "execution_count": 66,
   "id": "4f9aeeb3",
   "metadata": {},
   "outputs": [
    {
     "data": {
      "text/plain": [
       "38"
      ]
     },
     "execution_count": 66,
     "metadata": {},
     "output_type": "execute_result"
    }
   ],
   "source": [
    "50 - 3*4 # First multiplication then subtraction"
   ]
  },
  {
   "cell_type": "code",
   "execution_count": 67,
   "id": "d972f135",
   "metadata": {},
   "outputs": [
    {
     "data": {
      "text/plain": [
       "24.25"
      ]
     },
     "execution_count": 67,
     "metadata": {},
     "output_type": "execute_result"
    }
   ],
   "source": [
    "(50*2 - 3) / 4 "
   ]
  },
  {
   "cell_type": "markdown",
   "id": "536ef5a0",
   "metadata": {},
   "source": [
    "#### division & floor division"
   ]
  },
  {
   "cell_type": "code",
   "execution_count": 68,
   "id": "0df234a5",
   "metadata": {},
   "outputs": [
    {
     "data": {
      "text/plain": [
       "7.666666666666667"
      ]
     },
     "execution_count": 68,
     "metadata": {},
     "output_type": "execute_result"
    }
   ],
   "source": [
    "23/3 # classic division returns float - that is output is with fractional part"
   ]
  },
  {
   "cell_type": "code",
   "execution_count": 69,
   "id": "c8b991bd",
   "metadata": {},
   "outputs": [
    {
     "data": {
      "text/plain": [
       "7"
      ]
     },
     "execution_count": 69,
     "metadata": {},
     "output_type": "execute_result"
    }
   ],
   "source": [
    "23//3 #Floor division discards the fractional part"
   ]
  },
  {
   "cell_type": "code",
   "execution_count": 70,
   "id": "a2c9157d",
   "metadata": {},
   "outputs": [
    {
     "data": {
      "text/plain": [
       "2"
      ]
     },
     "execution_count": 70,
     "metadata": {},
     "output_type": "execute_result"
    }
   ],
   "source": [
    "23 % 3 # % operator returns the remainder of the division"
   ]
  },
  {
   "cell_type": "markdown",
   "id": "f5eb5b58",
   "metadata": {},
   "source": [
    "#### Power Operator "
   ]
  },
  {
   "cell_type": "code",
   "execution_count": 71,
   "id": "fcd8b288",
   "metadata": {},
   "outputs": [
    {
     "data": {
      "text/plain": [
       "25"
      ]
     },
     "execution_count": 71,
     "metadata": {},
     "output_type": "execute_result"
    }
   ],
   "source": [
    "5 ** 2 # returns square of 5"
   ]
  },
  {
   "cell_type": "code",
   "execution_count": 72,
   "id": "ce009147",
   "metadata": {},
   "outputs": [
    {
     "data": {
      "text/plain": [
       "81"
      ]
     },
     "execution_count": 72,
     "metadata": {},
     "output_type": "execute_result"
    }
   ],
   "source": [
    "3 ** 4 # returns 3 raise to 4 value"
   ]
  },
  {
   "cell_type": "markdown",
   "id": "9f0b27cd",
   "metadata": {},
   "source": [
    "### Assignment Operator (=)"
   ]
  },
  {
   "cell_type": "code",
   "execution_count": 73,
   "id": "9d8e48dd",
   "metadata": {},
   "outputs": [
    {
     "data": {
      "text/plain": [
       "36"
      ]
     },
     "execution_count": 73,
     "metadata": {},
     "output_type": "execute_result"
    }
   ],
   "source": [
    "A = 12 # assigning value 12 to variable A \n",
    "B = 24\n",
    "A + B"
   ]
  },
  {
   "cell_type": "code",
   "execution_count": 74,
   "id": "f85e4415",
   "metadata": {},
   "outputs": [
    {
     "data": {
      "text/plain": [
       "3"
      ]
     },
     "execution_count": 74,
     "metadata": {},
     "output_type": "execute_result"
    }
   ],
   "source": [
    "a = 3 # assigning value 3 to a \n",
    "a"
   ]
  },
  {
   "cell_type": "markdown",
   "id": "65d4c47a",
   "metadata": {},
   "source": [
    "### Python is case sensitive language so \"A\" & \"a\" are different here."
   ]
  },
  {
   "cell_type": "markdown",
   "id": "69af1a8c",
   "metadata": {},
   "source": [
    "##### We can write code in different lines or in one line as well "
   ]
  },
  {
   "cell_type": "code",
   "execution_count": 75,
   "id": "8f137d2d",
   "metadata": {},
   "outputs": [
    {
     "data": {
      "text/plain": [
       "36"
      ]
     },
     "execution_count": 75,
     "metadata": {},
     "output_type": "execute_result"
    }
   ],
   "source": [
    "A = 12 \n",
    "B = 24 \n",
    "A + B "
   ]
  },
  {
   "cell_type": "code",
   "execution_count": 76,
   "id": "0b3634b1",
   "metadata": {},
   "outputs": [],
   "source": [
    "A = 12"
   ]
  },
  {
   "cell_type": "code",
   "execution_count": 77,
   "id": "f0510560",
   "metadata": {},
   "outputs": [],
   "source": [
    "B = 24"
   ]
  },
  {
   "cell_type": "code",
   "execution_count": 78,
   "id": "7a21b68c",
   "metadata": {},
   "outputs": [
    {
     "data": {
      "text/plain": [
       "36"
      ]
     },
     "execution_count": 78,
     "metadata": {},
     "output_type": "execute_result"
    }
   ],
   "source": [
    "A + B"
   ]
  },
  {
   "cell_type": "code",
   "execution_count": 79,
   "id": "606dd16c",
   "metadata": {},
   "outputs": [
    {
     "ename": "NameError",
     "evalue": "name 'c' is not defined",
     "output_type": "error",
     "traceback": [
      "\u001b[1;31m---------------------------------------------------------------------------\u001b[0m",
      "\u001b[1;31mNameError\u001b[0m                                 Traceback (most recent call last)",
      "\u001b[1;32m~\\AppData\\Local\\Temp/ipykernel_2644/2134445590.py\u001b[0m in \u001b[0;36m<module>\u001b[1;34m\u001b[0m\n\u001b[1;32m----> 1\u001b[1;33m \u001b[0mc\u001b[0m \u001b[1;31m# accesing a variable which is undefined gives NameError\u001b[0m\u001b[1;33m\u001b[0m\u001b[1;33m\u001b[0m\u001b[0m\n\u001b[0m",
      "\u001b[1;31mNameError\u001b[0m: name 'c' is not defined"
     ]
    }
   ],
   "source": [
    "c # accesing a variable which is undefined gives NameError "
   ]
  },
  {
   "cell_type": "code",
   "execution_count": 81,
   "id": "d6e5f5bc",
   "metadata": {},
   "outputs": [
    {
     "data": {
      "text/plain": [
       "-4.8"
      ]
     },
     "execution_count": 81,
     "metadata": {},
     "output_type": "execute_result"
    }
   ],
   "source": [
    "2-3.4*2 # mixed operators and float point"
   ]
  },
  {
   "cell_type": "code",
   "execution_count": 82,
   "id": "f582552a",
   "metadata": {},
   "outputs": [],
   "source": [
    "C = 100"
   ]
  },
  {
   "cell_type": "code",
   "execution_count": 83,
   "id": "2f6295cd",
   "metadata": {},
   "outputs": [],
   "source": [
    "D = 5"
   ]
  },
  {
   "cell_type": "code",
   "execution_count": 84,
   "id": "8934e0f8",
   "metadata": {},
   "outputs": [
    {
     "data": {
      "text/plain": [
       "105"
      ]
     },
     "execution_count": 84,
     "metadata": {},
     "output_type": "execute_result"
    }
   ],
   "source": [
    "C + D"
   ]
  },
  {
   "cell_type": "code",
   "execution_count": 85,
   "id": "61bae6b5",
   "metadata": {},
   "outputs": [
    {
     "data": {
      "text/plain": [
       "10500"
      ]
     },
     "execution_count": 85,
     "metadata": {},
     "output_type": "execute_result"
    }
   ],
   "source": [
    "C*_ # underscore (_) is used for using previous calculation into new \n",
    "# here value of C gets multiplied with 105 which is the answer of previous calculation"
   ]
  },
  {
   "cell_type": "markdown",
   "id": "dc855379",
   "metadata": {},
   "source": [
    "###### Using Math library for using some functions "
   ]
  },
  {
   "cell_type": "code",
   "execution_count": 86,
   "id": "92c7ada7",
   "metadata": {},
   "outputs": [],
   "source": [
    "import math # import is keyword used to import library math "
   ]
  },
  {
   "cell_type": "code",
   "execution_count": 87,
   "id": "985578d0",
   "metadata": {},
   "outputs": [
    {
     "name": "stdout",
     "output_type": "stream",
     "text": [
      "The area of circle is :12.566370614359172\n"
     ]
    }
   ],
   "source": [
    "radius = 2\n",
    "print(f\"The area of circle is :{math.pi*(radius ** 2)}\")"
   ]
  },
  {
   "cell_type": "code",
   "execution_count": 88,
   "id": "5317d4e7",
   "metadata": {},
   "outputs": [],
   "source": [
    "# (f\"Is a string formatting {in this we write what has to be called}\")"
   ]
  },
  {
   "cell_type": "code",
   "execution_count": 89,
   "id": "f0ba3626",
   "metadata": {},
   "outputs": [],
   "source": [
    "x = 20  # defining a variable"
   ]
  },
  {
   "cell_type": "code",
   "execution_count": 90,
   "id": "fd3aa267",
   "metadata": {},
   "outputs": [
    {
     "data": {
      "text/plain": [
       "3.141592653589793"
      ]
     },
     "execution_count": 90,
     "metadata": {},
     "output_type": "execute_result"
    }
   ],
   "source": [
    "math.pi # syntax : library_name.function   --- for using any function from library "
   ]
  },
  {
   "cell_type": "code",
   "execution_count": 91,
   "id": "d577b123",
   "metadata": {},
   "outputs": [
    {
     "data": {
      "text/plain": [
       "485165195.4097903"
      ]
     },
     "execution_count": 91,
     "metadata": {},
     "output_type": "execute_result"
    }
   ],
   "source": [
    "math.exp(x)"
   ]
  },
  {
   "cell_type": "code",
   "execution_count": 92,
   "id": "c54a3434",
   "metadata": {},
   "outputs": [
    {
     "data": {
      "text/plain": [
       "2.995732273553991"
      ]
     },
     "execution_count": 92,
     "metadata": {},
     "output_type": "execute_result"
    }
   ],
   "source": [
    "math.log(x) # returns natural log"
   ]
  },
  {
   "cell_type": "code",
   "execution_count": 93,
   "id": "74b32ce1",
   "metadata": {},
   "outputs": [
    {
     "name": "stdout",
     "output_type": "stream",
     "text": [
      "1.3010299956639813\n",
      "1.301029995663981\n"
     ]
    }
   ],
   "source": [
    "print(math.log10(x))   # both returns log to the base 10\n",
    "print(math.log(x,10))"
   ]
  },
  {
   "cell_type": "code",
   "execution_count": 94,
   "id": "6b944d8a",
   "metadata": {},
   "outputs": [
    {
     "data": {
      "text/plain": [
       "4.321928094887363"
      ]
     },
     "execution_count": 94,
     "metadata": {},
     "output_type": "execute_result"
    }
   ],
   "source": [
    "math.log(x,2) # log to the base 2"
   ]
  },
  {
   "cell_type": "code",
   "execution_count": 95,
   "id": "902051ae",
   "metadata": {},
   "outputs": [
    {
     "data": {
      "text/plain": [
       "21"
      ]
     },
     "execution_count": 95,
     "metadata": {},
     "output_type": "execute_result"
    }
   ],
   "source": [
    "y = 20.353535\n",
    "math.ceil(y) # rounds up the given number"
   ]
  },
  {
   "cell_type": "code",
   "execution_count": 96,
   "id": "b3386fc5",
   "metadata": {},
   "outputs": [
    {
     "data": {
      "text/plain": [
       "20"
      ]
     },
     "execution_count": 96,
     "metadata": {},
     "output_type": "execute_result"
    }
   ],
   "source": [
    "math.floor(y) # rounds down the given number"
   ]
  },
  {
   "cell_type": "code",
   "execution_count": 97,
   "id": "a5909eeb",
   "metadata": {},
   "outputs": [
    {
     "data": {
      "text/plain": [
       "2.33333"
      ]
     },
     "execution_count": 97,
     "metadata": {},
     "output_type": "execute_result"
    }
   ],
   "source": [
    "math.fabs(-2.33333) # gives absolute number "
   ]
  },
  {
   "cell_type": "code",
   "execution_count": 98,
   "id": "e14fac79",
   "metadata": {},
   "outputs": [
    {
     "data": {
      "text/plain": [
       "4"
      ]
     },
     "execution_count": 98,
     "metadata": {},
     "output_type": "execute_result"
    }
   ],
   "source": [
    "math.gcd(100,244) # greatest common divisor of the numbers  -- gcd(a,b)"
   ]
  },
  {
   "cell_type": "code",
   "execution_count": 99,
   "id": "3360e94c",
   "metadata": {},
   "outputs": [],
   "source": [
    "S = [20,30,40,50]  # list is in square  bracket "
   ]
  },
  {
   "cell_type": "code",
   "execution_count": 100,
   "id": "b5243326",
   "metadata": {},
   "outputs": [
    {
     "data": {
      "text/plain": [
       "140.0"
      ]
     },
     "execution_count": 100,
     "metadata": {},
     "output_type": "execute_result"
    }
   ],
   "source": [
    "math.fsum(S) # sum of all the values in list S"
   ]
  },
  {
   "cell_type": "code",
   "execution_count": 101,
   "id": "c8bd0d1d",
   "metadata": {},
   "outputs": [
    {
     "data": {
      "text/plain": [
       "81.0"
      ]
     },
     "execution_count": 101,
     "metadata": {},
     "output_type": "execute_result"
    }
   ],
   "source": [
    "math.pow(3,4) # 3 raise to 4 -- power "
   ]
  },
  {
   "cell_type": "code",
   "execution_count": 102,
   "id": "74087162",
   "metadata": {},
   "outputs": [
    {
     "data": {
      "text/plain": [
       "9.0"
      ]
     },
     "execution_count": 102,
     "metadata": {},
     "output_type": "execute_result"
    }
   ],
   "source": [
    "math.sqrt(81) # root of 81"
   ]
  },
  {
   "cell_type": "code",
   "execution_count": 103,
   "id": "5ac8e824",
   "metadata": {},
   "outputs": [
    {
     "data": {
      "text/plain": [
       "-3.0"
      ]
     },
     "execution_count": 103,
     "metadata": {},
     "output_type": "execute_result"
    }
   ],
   "source": [
    "math.copysign(3,-1) # syntax : copysign(number on which sign should come, number which has sign) \n",
    "# -- can be used while non parametric tests - sign rank test"
   ]
  },
  {
   "cell_type": "code",
   "execution_count": 104,
   "id": "6f1bd4e0",
   "metadata": {},
   "outputs": [
    {
     "data": {
      "text/plain": [
       "120"
      ]
     },
     "execution_count": 104,
     "metadata": {},
     "output_type": "execute_result"
    }
   ],
   "source": [
    "math.factorial(5) # 5! "
   ]
  },
  {
   "cell_type": "code",
   "execution_count": 105,
   "id": "9cfb176b",
   "metadata": {},
   "outputs": [
    {
     "data": {
      "text/plain": [
       "-0.8011526357338304"
      ]
     },
     "execution_count": 105,
     "metadata": {},
     "output_type": "execute_result"
    }
   ],
   "source": [
    "math.sin(180)"
   ]
  },
  {
   "cell_type": "code",
   "execution_count": 106,
   "id": "632ed0c0",
   "metadata": {},
   "outputs": [
    {
     "data": {
      "text/plain": [
       "1.565240828394204"
      ]
     },
     "execution_count": 106,
     "metadata": {},
     "output_type": "execute_result"
    }
   ],
   "source": [
    "math.atan(180)"
   ]
  },
  {
   "cell_type": "code",
   "execution_count": 107,
   "id": "cdaf7f18",
   "metadata": {},
   "outputs": [
    {
     "data": {
      "text/plain": [
       "1145.9155902616465"
      ]
     },
     "execution_count": 107,
     "metadata": {},
     "output_type": "execute_result"
    }
   ],
   "source": [
    "math.degrees(20) # converts angle 20 from radian to degrees"
   ]
  },
  {
   "cell_type": "code",
   "execution_count": 108,
   "id": "b7d6ef34",
   "metadata": {},
   "outputs": [
    {
     "data": {
      "text/plain": [
       "19.99999842463708"
      ]
     },
     "execution_count": 108,
     "metadata": {},
     "output_type": "execute_result"
    }
   ],
   "source": [
    "math.radians(1145.9155) # converts from degrees to radian"
   ]
  },
  {
   "cell_type": "markdown",
   "id": "326062de",
   "metadata": {},
   "source": [
    "# STRINGS"
   ]
  },
  {
   "cell_type": "markdown",
   "id": "b69234b8",
   "metadata": {},
   "source": [
    "- It is a datatype\n",
    "\n",
    "- To use when you want to assign a word , paragraph\n",
    "\n",
    "- to check datatype - syntax : print(type( ))\n",
    "\n",
    "- Strings are immutable i.e you cannot change the string once its been saved"
   ]
  },
  {
   "cell_type": "code",
   "execution_count": 109,
   "id": "9d00d4b6",
   "metadata": {},
   "outputs": [
    {
     "data": {
      "text/plain": [
       "'Ayushi'"
      ]
     },
     "execution_count": 109,
     "metadata": {},
     "output_type": "execute_result"
    }
   ],
   "source": [
    "'Ayushi' #single quotes"
   ]
  },
  {
   "cell_type": "code",
   "execution_count": 110,
   "id": "157779b1",
   "metadata": {},
   "outputs": [
    {
     "data": {
      "text/plain": [
       "'Ayushi'"
      ]
     },
     "execution_count": 110,
     "metadata": {},
     "output_type": "execute_result"
    }
   ],
   "source": [
    "\"Ayushi\" # double quotes"
   ]
  },
  {
   "cell_type": "code",
   "execution_count": 112,
   "id": "bb40561e",
   "metadata": {},
   "outputs": [
    {
     "data": {
      "text/plain": [
       "\"dosen't\""
      ]
     },
     "execution_count": 112,
     "metadata": {},
     "output_type": "execute_result"
    }
   ],
   "source": [
    "'dosen\\'t' # use \\' to escape the single quotes"
   ]
  },
  {
   "cell_type": "code",
   "execution_count": 113,
   "id": "f589a400",
   "metadata": {},
   "outputs": [
    {
     "data": {
      "text/plain": [
       "\"ain't'\""
      ]
     },
     "execution_count": 113,
     "metadata": {},
     "output_type": "execute_result"
    }
   ],
   "source": [
    "\"ain\\'t'\""
   ]
  },
  {
   "cell_type": "code",
   "execution_count": 114,
   "id": "92f953b7",
   "metadata": {},
   "outputs": [
    {
     "data": {
      "text/plain": [
       "'ain\\t'"
      ]
     },
     "execution_count": 114,
     "metadata": {},
     "output_type": "execute_result"
    }
   ],
   "source": [
    "'ain\\t' # if you dont use\\' then ain't wont come in this format"
   ]
  },
  {
   "cell_type": "code",
   "execution_count": 115,
   "id": "ea5a0bab",
   "metadata": {},
   "outputs": [
    {
     "data": {
      "text/plain": [
       "'Yes, I am in'"
      ]
     },
     "execution_count": 115,
     "metadata": {},
     "output_type": "execute_result"
    }
   ],
   "source": [
    "\"Yes, I am in\""
   ]
  },
  {
   "cell_type": "code",
   "execution_count": 116,
   "id": "69b575c9",
   "metadata": {},
   "outputs": [
    {
     "data": {
      "text/plain": [
       "\"Yes, 'I am in'\""
      ]
     },
     "execution_count": 116,
     "metadata": {},
     "output_type": "execute_result"
    }
   ],
   "source": [
    "\"Yes, \\'I am in'\""
   ]
  },
  {
   "cell_type": "code",
   "execution_count": 118,
   "id": "3c434636",
   "metadata": {},
   "outputs": [
    {
     "ename": "SyntaxError",
     "evalue": "invalid syntax (Temp/ipykernel_2644/3528894476.py, line 1)",
     "output_type": "error",
     "traceback": [
      "\u001b[1;36m  File \u001b[1;32m\"C:\\Users\\Ayushi\\AppData\\Local\\Temp/ipykernel_2644/3528894476.py\"\u001b[1;36m, line \u001b[1;32m1\u001b[0m\n\u001b[1;33m    \"Don\\'t'\", they lie # gives Syntax error since they lie is not written in quotes\u001b[0m\n\u001b[1;37m                        ^\u001b[0m\n\u001b[1;31mSyntaxError\u001b[0m\u001b[1;31m:\u001b[0m invalid syntax\n"
     ]
    }
   ],
   "source": [
    "\"Don\\'t'\", they lie # gives Syntax error since they lie is not written in quotes"
   ]
  },
  {
   "cell_type": "code",
   "execution_count": 119,
   "id": "dbe22615",
   "metadata": {},
   "outputs": [
    {
     "name": "stdout",
     "output_type": "stream",
     "text": [
      "Yes, 'I am in'\n"
     ]
    }
   ],
   "source": [
    "print(\"Yes, \\'I am in'\")"
   ]
  },
  {
   "cell_type": "code",
   "execution_count": 120,
   "id": "b03797ff",
   "metadata": {},
   "outputs": [
    {
     "ename": "NameError",
     "evalue": "name 'Ayushi' is not defined",
     "output_type": "error",
     "traceback": [
      "\u001b[1;31m---------------------------------------------------------------------------\u001b[0m",
      "\u001b[1;31mNameError\u001b[0m                                 Traceback (most recent call last)",
      "\u001b[1;32m~\\AppData\\Local\\Temp/ipykernel_2644/3166681594.py\u001b[0m in \u001b[0;36m<module>\u001b[1;34m\u001b[0m\n\u001b[1;32m----> 1\u001b[1;33m \u001b[0mName\u001b[0m \u001b[1;33m=\u001b[0m \u001b[0mAyushi\u001b[0m\u001b[1;33m\u001b[0m\u001b[1;33m\u001b[0m\u001b[0m\n\u001b[0m",
      "\u001b[1;31mNameError\u001b[0m: name 'Ayushi' is not defined"
     ]
    }
   ],
   "source": [
    "Name = Ayushi  # gives Name error \n",
    "#since Ayushi is a string and not a value so python dosent understands it \n",
    "#as a value till we write it in quotes"
   ]
  },
  {
   "cell_type": "code",
   "execution_count": 121,
   "id": "42125d3e",
   "metadata": {},
   "outputs": [
    {
     "data": {
      "text/plain": [
       "'Ayushi'"
      ]
     },
     "execution_count": 121,
     "metadata": {},
     "output_type": "execute_result"
    }
   ],
   "source": [
    "Name = \"Ayushi\"\n",
    "Name "
   ]
  },
  {
   "cell_type": "code",
   "execution_count": 122,
   "id": "ce74549b",
   "metadata": {},
   "outputs": [
    {
     "name": "stdout",
     "output_type": "stream",
     "text": [
      "Ayushi\n"
     ]
    }
   ],
   "source": [
    "print(Name)"
   ]
  },
  {
   "cell_type": "markdown",
   "id": "6a319112",
   "metadata": {},
   "source": [
    "### INDEXING"
   ]
  },
  {
   "cell_type": "code",
   "execution_count": null,
   "id": "3abe05af",
   "metadata": {},
   "outputs": [],
   "source": [
    "# syntax : <name of the string>[index]\""
   ]
  },
  {
   "cell_type": "markdown",
   "id": "8fc85607",
   "metadata": {},
   "source": [
    "-Ayushi\n",
    "\n",
    "-012345"
   ]
  },
  {
   "cell_type": "markdown",
   "id": "fcb92289",
   "metadata": {},
   "source": [
    "- indexing in python starts from 0 and keeps increasing\n",
    "\n",
    "- Negative indexing starts from -1 and goes on decreasing "
   ]
  },
  {
   "cell_type": "code",
   "execution_count": 123,
   "id": "5486c9ec",
   "metadata": {},
   "outputs": [
    {
     "data": {
      "text/plain": [
       "'A'"
      ]
     },
     "execution_count": 123,
     "metadata": {},
     "output_type": "execute_result"
    }
   ],
   "source": [
    "Name[0] # returns character in position 0"
   ]
  },
  {
   "cell_type": "code",
   "execution_count": 124,
   "id": "00aca4c4",
   "metadata": {},
   "outputs": [
    {
     "data": {
      "text/plain": [
       "'A'"
      ]
     },
     "execution_count": 124,
     "metadata": {},
     "output_type": "execute_result"
    }
   ],
   "source": [
    "Name[-6] # returns character at the -ve6 position"
   ]
  },
  {
   "cell_type": "code",
   "execution_count": 125,
   "id": "3c2f1f43",
   "metadata": {},
   "outputs": [
    {
     "data": {
      "text/plain": [
       "'i'"
      ]
     },
     "execution_count": 125,
     "metadata": {},
     "output_type": "execute_result"
    }
   ],
   "source": [
    "Name[-1] # last character"
   ]
  },
  {
   "cell_type": "code",
   "execution_count": 126,
   "id": "9405542c",
   "metadata": {},
   "outputs": [
    {
     "data": {
      "text/plain": [
       "'h'"
      ]
     },
     "execution_count": 126,
     "metadata": {},
     "output_type": "execute_result"
    }
   ],
   "source": [
    "Name[-2] # second-last character"
   ]
  },
  {
   "cell_type": "markdown",
   "id": "4920131c",
   "metadata": {},
   "source": [
    "### SLICING "
   ]
  },
  {
   "cell_type": "code",
   "execution_count": 127,
   "id": "aabe7abe",
   "metadata": {},
   "outputs": [],
   "source": [
    "# syntax [start_index : end_index]"
   ]
  },
  {
   "cell_type": "code",
   "execution_count": 128,
   "id": "58f4b93c",
   "metadata": {},
   "outputs": [
    {
     "data": {
      "text/plain": [
       "'Ay'"
      ]
     },
     "execution_count": 128,
     "metadata": {},
     "output_type": "execute_result"
    }
   ],
   "source": [
    "Name [0:2] # character from position 0(included) to 2(excluded)\n"
   ]
  },
  {
   "cell_type": "code",
   "execution_count": 129,
   "id": "4739a4f8",
   "metadata": {},
   "outputs": [
    {
     "data": {
      "text/plain": [
       "'Ay'"
      ]
     },
     "execution_count": 129,
     "metadata": {},
     "output_type": "execute_result"
    }
   ],
   "source": [
    "Name[ :2] # gives same output as above-character from beginning to position 2 (excluded) - ie first two characters"
   ]
  },
  {
   "cell_type": "code",
   "execution_count": 130,
   "id": "bb22f602",
   "metadata": {},
   "outputs": [
    {
     "data": {
      "text/plain": [
       "'ushi'"
      ]
     },
     "execution_count": 130,
     "metadata": {},
     "output_type": "execute_result"
    }
   ],
   "source": [
    "Name[2: ] # last 4 characters - character from position 2 (included) to end "
   ]
  },
  {
   "cell_type": "code",
   "execution_count": 131,
   "id": "abb0978b",
   "metadata": {},
   "outputs": [
    {
     "data": {
      "text/plain": [
       "'Ayushi'"
      ]
     },
     "execution_count": 131,
     "metadata": {},
     "output_type": "execute_result"
    }
   ],
   "source": [
    "Name[ :2] + Name[2: ]  "
   ]
  },
  {
   "cell_type": "markdown",
   "id": "f3833d1c",
   "metadata": {},
   "source": [
    "#### STRING ADDITION"
   ]
  },
  {
   "cell_type": "code",
   "execution_count": 136,
   "id": "ba8a2dd3",
   "metadata": {},
   "outputs": [
    {
     "name": "stdout",
     "output_type": "stream",
     "text": [
      "with_space = Ayushi Padamwar\n",
      "without_space = AyushiPadamwar\n"
     ]
    }
   ],
   "source": [
    "S1 = \"Ayushi\"\n",
    "S2 = \"Padamwar\"\n",
    "\n",
    "with_space = S1+\" \"+S2 # with space Addition of two strings\n",
    "without_space = S1+S2 # without space Addition of two strings\n",
    "print(f\"with_space = {with_space}\\nwithout_space = {without_space}\")"
   ]
  },
  {
   "cell_type": "code",
   "execution_count": 137,
   "id": "61f97273",
   "metadata": {},
   "outputs": [
    {
     "name": "stdout",
     "output_type": "stream",
     "text": [
      "AyushiPadamwar\n",
      "Ayushi Padamwar\n"
     ]
    }
   ],
   "source": [
    "#Another way of addition of strings using \"%s%s\"%\n",
    "\n",
    "add_string = \"%s%s\"%(S1,S2)\n",
    "S3 = \"%s %s\"%(S1,S2)\n",
    "print(add_string)\n",
    "print(S3)"
   ]
  },
  {
   "cell_type": "code",
   "execution_count": 142,
   "id": "ef4c57bc",
   "metadata": {},
   "outputs": [
    {
     "name": "stdout",
     "output_type": "stream",
     "text": [
      "Ayushi Padamwar\n"
     ]
    }
   ],
   "source": [
    "# using \"\".join([]) method \n",
    "\n",
    "S4 = \" \".join([S1,S2])  # list in join function\n",
    "print(S4)"
   ]
  },
  {
   "cell_type": "code",
   "execution_count": 143,
   "id": "90684687",
   "metadata": {},
   "outputs": [
    {
     "name": "stdout",
     "output_type": "stream",
     "text": [
      "Ayushi Padamwar\n"
     ]
    }
   ],
   "source": [
    "S5 = \"{} {}\".format(S1,S2) # string formatting\n",
    "print(S5)"
   ]
  },
  {
   "cell_type": "code",
   "execution_count": 144,
   "id": "5b5f2519",
   "metadata": {},
   "outputs": [
    {
     "ename": "TypeError",
     "evalue": "'str' object doesn't support item deletion",
     "output_type": "error",
     "traceback": [
      "\u001b[1;31m---------------------------------------------------------------------------\u001b[0m",
      "\u001b[1;31mTypeError\u001b[0m                                 Traceback (most recent call last)",
      "\u001b[1;32m~\\AppData\\Local\\Temp/ipykernel_2644/2595152300.py\u001b[0m in \u001b[0;36m<module>\u001b[1;34m\u001b[0m\n\u001b[1;32m----> 1\u001b[1;33m \u001b[1;32mdel\u001b[0m \u001b[0mS4\u001b[0m\u001b[1;33m[\u001b[0m\u001b[1;36m1\u001b[0m\u001b[1;33m]\u001b[0m\u001b[1;33m\u001b[0m\u001b[1;33m\u001b[0m\u001b[0m\n\u001b[0m",
      "\u001b[1;31mTypeError\u001b[0m: 'str' object doesn't support item deletion"
     ]
    }
   ],
   "source": [
    "del S4[1] # string are immutable so you cannot delete the string but you can delet S4 which is a variable having string"
   ]
  },
  {
   "cell_type": "code",
   "execution_count": 145,
   "id": "4655debf",
   "metadata": {},
   "outputs": [],
   "source": [
    "# Concatination of a string"
   ]
  },
  {
   "cell_type": "code",
   "execution_count": 146,
   "id": "457bb024",
   "metadata": {},
   "outputs": [
    {
     "data": {
      "text/plain": [
       "'Ayushi'"
      ]
     },
     "execution_count": 146,
     "metadata": {},
     "output_type": "execute_result"
    }
   ],
   "source": [
    "S1"
   ]
  },
  {
   "cell_type": "code",
   "execution_count": 147,
   "id": "5ce5deca",
   "metadata": {},
   "outputs": [
    {
     "data": {
      "text/plain": [
       "'AyushiAyushiAyushi'"
      ]
     },
     "execution_count": 147,
     "metadata": {},
     "output_type": "execute_result"
    }
   ],
   "source": [
    "S1*3 #String is repeated 3 times "
   ]
  },
  {
   "cell_type": "code",
   "execution_count": 150,
   "id": "d4f3732c",
   "metadata": {},
   "outputs": [
    {
     "data": {
      "text/plain": [
       "'Ayushi Ayushi Ayushi '"
      ]
     },
     "execution_count": 150,
     "metadata": {},
     "output_type": "execute_result"
    }
   ],
   "source": [
    "(S1+\" \")*3 #String is repeated 3 times with space"
   ]
  },
  {
   "cell_type": "code",
   "execution_count": 151,
   "id": "bdcff72f",
   "metadata": {},
   "outputs": [
    {
     "data": {
      "text/plain": [
       "str"
      ]
     },
     "execution_count": 151,
     "metadata": {},
     "output_type": "execute_result"
    }
   ],
   "source": [
    "type(S1) # datatype of S1"
   ]
  },
  {
   "cell_type": "markdown",
   "id": "071a49f6",
   "metadata": {},
   "source": [
    "### LIST"
   ]
  },
  {
   "cell_type": "markdown",
   "id": "83703188",
   "metadata": {},
   "source": [
    "- List is an array \n",
    "\n",
    "- Can be of heterogeneous datatype \\ can include multiple datatype\n",
    "\n",
    "- empty list - []\n",
    "\n",
    "- list are mutable"
   ]
  },
  {
   "cell_type": "code",
   "execution_count": 152,
   "id": "fdbf6382",
   "metadata": {},
   "outputs": [
    {
     "data": {
      "text/plain": [
       "[1, 4, 9, 16, 25]"
      ]
     },
     "execution_count": 152,
     "metadata": {},
     "output_type": "execute_result"
    }
   ],
   "source": [
    "squares = [1,4,9,16,25]\n",
    "squares"
   ]
  },
  {
   "cell_type": "markdown",
   "id": "200ace52",
   "metadata": {},
   "source": [
    "#### INDEXING"
   ]
  },
  {
   "cell_type": "code",
   "execution_count": 153,
   "id": "63a88bc3",
   "metadata": {},
   "outputs": [
    {
     "data": {
      "text/plain": [
       "1"
      ]
     },
     "execution_count": 153,
     "metadata": {},
     "output_type": "execute_result"
    }
   ],
   "source": [
    "squares[0] #indexing in list - returns 0th index from list "
   ]
  },
  {
   "cell_type": "code",
   "execution_count": 154,
   "id": "6b96d925",
   "metadata": {},
   "outputs": [
    {
     "data": {
      "text/plain": [
       "25"
      ]
     },
     "execution_count": 154,
     "metadata": {},
     "output_type": "execute_result"
    }
   ],
   "source": [
    "squares[-1] # returns last index from list squares"
   ]
  },
  {
   "cell_type": "markdown",
   "id": "f8e206e2",
   "metadata": {},
   "source": [
    "#### SLICING"
   ]
  },
  {
   "cell_type": "code",
   "execution_count": 156,
   "id": "d0141a38",
   "metadata": {},
   "outputs": [
    {
     "data": {
      "text/plain": [
       "[1, 4, 9, 16, 25]"
      ]
     },
     "execution_count": 156,
     "metadata": {},
     "output_type": "execute_result"
    }
   ],
   "source": [
    "squares[:] #returns all the values"
   ]
  },
  {
   "cell_type": "code",
   "execution_count": 158,
   "id": "2571ad77",
   "metadata": {},
   "outputs": [
    {
     "data": {
      "text/plain": [
       "[4, 9, 16, 25]"
      ]
     },
     "execution_count": 158,
     "metadata": {},
     "output_type": "execute_result"
    }
   ],
   "source": [
    "squares[1:] #returns values from position 1 to end"
   ]
  },
  {
   "cell_type": "code",
   "execution_count": 159,
   "id": "90e6c2dd",
   "metadata": {},
   "outputs": [
    {
     "data": {
      "text/plain": [
       "[1]"
      ]
     },
     "execution_count": 159,
     "metadata": {},
     "output_type": "execute_result"
    }
   ],
   "source": [
    "squares[:1] # slicing only 1st index"
   ]
  },
  {
   "cell_type": "code",
   "execution_count": 161,
   "id": "6fec7556",
   "metadata": {},
   "outputs": [
    {
     "data": {
      "text/plain": [
       "[9, 16, 25]"
      ]
     },
     "execution_count": 161,
     "metadata": {},
     "output_type": "execute_result"
    }
   ],
   "source": [
    "squares[2:] # slicing ignores 1st 2 values "
   ]
  },
  {
   "cell_type": "code",
   "execution_count": 163,
   "id": "487b6f42",
   "metadata": {},
   "outputs": [
    {
     "data": {
      "text/plain": [
       "[1, 4, 9]"
      ]
     },
     "execution_count": 163,
     "metadata": {},
     "output_type": "execute_result"
    }
   ],
   "source": [
    "squares[:3] # considers 1st 3 values"
   ]
  },
  {
   "cell_type": "code",
   "execution_count": 164,
   "id": "0288dce0",
   "metadata": {},
   "outputs": [],
   "source": [
    "characters = [\"Monica\", \"Rachel\", \"Pheobe\"] # character list"
   ]
  },
  {
   "cell_type": "code",
   "execution_count": 165,
   "id": "5915b89d",
   "metadata": {},
   "outputs": [
    {
     "data": {
      "text/plain": [
       "['Monica', 'Rachel', 'Pheobe']"
      ]
     },
     "execution_count": 165,
     "metadata": {},
     "output_type": "execute_result"
    }
   ],
   "source": [
    "characters"
   ]
  },
  {
   "cell_type": "code",
   "execution_count": 166,
   "id": "9e2f095a",
   "metadata": {},
   "outputs": [],
   "source": [
    "combined = [1,2,\"3\",\"four\",2.3] # mixed character, float, number ,etc "
   ]
  },
  {
   "cell_type": "code",
   "execution_count": 167,
   "id": "364c4611",
   "metadata": {},
   "outputs": [
    {
     "data": {
      "text/plain": [
       "[1, 2, '3', 'four', 2.3]"
      ]
     },
     "execution_count": 167,
     "metadata": {},
     "output_type": "execute_result"
    }
   ],
   "source": [
    "combined"
   ]
  },
  {
   "cell_type": "code",
   "execution_count": 168,
   "id": "168cdeaa",
   "metadata": {},
   "outputs": [
    {
     "data": {
      "text/plain": [
       "[]"
      ]
     },
     "execution_count": 168,
     "metadata": {},
     "output_type": "execute_result"
    }
   ],
   "source": [
    "List = [] #empty list\n",
    "List"
   ]
  },
  {
   "cell_type": "code",
   "execution_count": 169,
   "id": "574dfa93",
   "metadata": {},
   "outputs": [
    {
     "data": {
      "text/plain": [
       "[1, 2, [9, 8], 4, 5, 6]"
      ]
     },
     "execution_count": 169,
     "metadata": {},
     "output_type": "execute_result"
    }
   ],
   "source": [
    "#nested list - list inside a list\n",
    "\n",
    "list_in_list = [1,2,[9,8],4,5,6]\n",
    "list_in_list"
   ]
  },
  {
   "cell_type": "code",
   "execution_count": 171,
   "id": "36df085f",
   "metadata": {},
   "outputs": [
    {
     "data": {
      "text/plain": [
       "[9, 8]"
      ]
     },
     "execution_count": 171,
     "metadata": {},
     "output_type": "execute_result"
    }
   ],
   "source": [
    "list_in_list[2] # returns element at position 2"
   ]
  },
  {
   "cell_type": "code",
   "execution_count": 173,
   "id": "edeb300c",
   "metadata": {},
   "outputs": [
    {
     "data": {
      "text/plain": [
       "[2, 3, 4, 7, 8, 9]"
      ]
     },
     "execution_count": 173,
     "metadata": {},
     "output_type": "execute_result"
    }
   ],
   "source": [
    "Y = [2,3,4]\n",
    "Z = [7,8,9]\n",
    "Y+Z # combination of two lists"
   ]
  },
  {
   "cell_type": "code",
   "execution_count": 174,
   "id": "f67ce991",
   "metadata": {},
   "outputs": [
    {
     "ename": "TypeError",
     "evalue": "can only concatenate list (not \"str\") to list",
     "output_type": "error",
     "traceback": [
      "\u001b[1;31m---------------------------------------------------------------------------\u001b[0m",
      "\u001b[1;31mTypeError\u001b[0m                                 Traceback (most recent call last)",
      "\u001b[1;32m~\\AppData\\Local\\Temp/ipykernel_2644/938277030.py\u001b[0m in \u001b[0;36m<module>\u001b[1;34m\u001b[0m\n\u001b[1;32m----> 1\u001b[1;33m \u001b[0mY\u001b[0m\u001b[1;33m+\u001b[0m\u001b[1;34m\" \"\u001b[0m\u001b[1;33m+\u001b[0m\u001b[0mZ\u001b[0m \u001b[1;31m# gives Type error list cannot be added like strings\u001b[0m\u001b[1;33m\u001b[0m\u001b[1;33m\u001b[0m\u001b[0m\n\u001b[0m",
      "\u001b[1;31mTypeError\u001b[0m: can only concatenate list (not \"str\") to list"
     ]
    }
   ],
   "source": [
    "Y+\" \"+Z # gives Type error list cannot be added like strings"
   ]
  },
  {
   "cell_type": "code",
   "execution_count": 178,
   "id": "d14c5c84",
   "metadata": {},
   "outputs": [
    {
     "data": {
      "text/plain": [
       "36"
      ]
     },
     "execution_count": 178,
     "metadata": {},
     "output_type": "execute_result"
    }
   ],
   "source": [
    "squares.append(6**2) # adding new element at the end of the list"
   ]
  },
  {
   "cell_type": "code",
   "execution_count": 179,
   "id": "a9b28bcd",
   "metadata": {},
   "outputs": [
    {
     "data": {
      "text/plain": [
       "[1, 4, 9, 16, 25, 36]"
      ]
     },
     "execution_count": 179,
     "metadata": {},
     "output_type": "execute_result"
    }
   ],
   "source": [
    "squares"
   ]
  },
  {
   "cell_type": "code",
   "execution_count": 183,
   "id": "eac2ea70",
   "metadata": {},
   "outputs": [],
   "source": [
    "b = [64, 81, 100]\n",
    "squares.append(b) # adding a list at end in a list"
   ]
  },
  {
   "cell_type": "code",
   "execution_count": 185,
   "id": "9f62b0a6",
   "metadata": {},
   "outputs": [
    {
     "data": {
      "text/plain": [
       "[1, 4, 9, 16, 25, 36, [64, 81, 100]]"
      ]
     },
     "execution_count": 185,
     "metadata": {},
     "output_type": "execute_result"
    }
   ],
   "source": [
    "squares"
   ]
  },
  {
   "cell_type": "markdown",
   "id": "9a05e9e4",
   "metadata": {},
   "source": [
    "HOW TO REPLACE VALUES IN A LIST IN PYTHON?\n",
    "\n",
    "- USING LIST INDEXING\n",
    "\n",
    "- USING FOR LOOP\n",
    "\n",
    "- USING WHILE LOOP\n",
    "\n",
    "- USING LAMBDA FUNCTION\n",
    "\n",
    "- USING LIST SLICING"
   ]
  },
  {
   "cell_type": "markdown",
   "id": "05555cf9",
   "metadata": {},
   "source": [
    "1. List indexing"
   ]
  },
  {
   "cell_type": "code",
   "execution_count": 187,
   "id": "190fcf19",
   "metadata": {},
   "outputs": [],
   "source": [
    "# Syntax: name_of_list[index]=new_value"
   ]
  },
  {
   "cell_type": "code",
   "execution_count": 189,
   "id": "dc939c15",
   "metadata": {},
   "outputs": [
    {
     "data": {
      "text/plain": [
       "[1, 4, 9, 16, 25, 36, [64, 81, 100]]"
      ]
     },
     "execution_count": 189,
     "metadata": {},
     "output_type": "execute_result"
    }
   ],
   "source": [
    "squares"
   ]
  },
  {
   "cell_type": "code",
   "execution_count": 191,
   "id": "9402a916",
   "metadata": {},
   "outputs": [
    {
     "data": {
      "text/plain": [
       "[64, 81, 100]"
      ]
     },
     "execution_count": 191,
     "metadata": {},
     "output_type": "execute_result"
    }
   ],
   "source": [
    "squares.pop(-1) # removing element at the last index which here was a list "
   ]
  },
  {
   "cell_type": "code",
   "execution_count": 192,
   "id": "14e8eb87",
   "metadata": {},
   "outputs": [
    {
     "data": {
      "text/plain": [
       "[1, 4, 9, 16, 25, 36]"
      ]
     },
     "execution_count": 192,
     "metadata": {},
     "output_type": "execute_result"
    }
   ],
   "source": [
    "squares"
   ]
  },
  {
   "cell_type": "code",
   "execution_count": 193,
   "id": "12df8dfb",
   "metadata": {},
   "outputs": [
    {
     "data": {
      "text/plain": [
       "[1, 4, 9, 16, 25, 49]"
      ]
     },
     "execution_count": 193,
     "metadata": {},
     "output_type": "execute_result"
    }
   ],
   "source": [
    "squares[-1]=49 # replacing the element at -1 position with new element\n",
    "#used when you bymistakely enter a wrong value\n",
    "squares"
   ]
  },
  {
   "cell_type": "code",
   "execution_count": 223,
   "id": "8bcb4012",
   "metadata": {},
   "outputs": [
    {
     "data": {
      "text/plain": [
       "['Joey', 'Chandler', 'Ross', 'Mike']"
      ]
     },
     "execution_count": 223,
     "metadata": {},
     "output_type": "execute_result"
    }
   ],
   "source": [
    "Friends = [\"Joey\", \"Chandler\", \"Ross\", \"Mike\"] # creating a list assigned to a variable Friends\n",
    "Friends"
   ]
  },
  {
   "cell_type": "code",
   "execution_count": 224,
   "id": "59d13074",
   "metadata": {},
   "outputs": [],
   "source": [
    "Friends[-1] = \"Rachel\"   # replacing Mike with rachel "
   ]
  },
  {
   "cell_type": "code",
   "execution_count": 225,
   "id": "eda76085",
   "metadata": {},
   "outputs": [
    {
     "data": {
      "text/plain": [
       "['Joey', 'Chandler', 'Ross', 'Rachel']"
      ]
     },
     "execution_count": 225,
     "metadata": {},
     "output_type": "execute_result"
    }
   ],
   "source": [
    "Friends"
   ]
  },
  {
   "cell_type": "code",
   "execution_count": 226,
   "id": "6cacbff3",
   "metadata": {},
   "outputs": [],
   "source": [
    "Friends[0:3] = [\"Monica\",\"Pheobe\",\"Janice\"]"
   ]
  },
  {
   "cell_type": "code",
   "execution_count": 227,
   "id": "6bb432fa",
   "metadata": {},
   "outputs": [
    {
     "data": {
      "text/plain": [
       "['Monica', 'Pheobe', 'Janice', 'Rachel']"
      ]
     },
     "execution_count": 227,
     "metadata": {},
     "output_type": "execute_result"
    }
   ],
   "source": [
    "Friends"
   ]
  },
  {
   "cell_type": "code",
   "execution_count": 228,
   "id": "44fba7dd",
   "metadata": {},
   "outputs": [],
   "source": [
    "Friends[0:2] = [] # removing name at position 2"
   ]
  },
  {
   "cell_type": "code",
   "execution_count": 229,
   "id": "391d9e7f",
   "metadata": {},
   "outputs": [
    {
     "data": {
      "text/plain": [
       "['Janice', 'Rachel']"
      ]
     },
     "execution_count": 229,
     "metadata": {},
     "output_type": "execute_result"
    }
   ],
   "source": [
    "Friends"
   ]
  },
  {
   "cell_type": "markdown",
   "id": "edc8db88",
   "metadata": {},
   "source": [
    "##### Basic Operations, Strings, lists in the notebook"
   ]
  },
  {
   "cell_type": "code",
   "execution_count": null,
   "id": "f0d49656",
   "metadata": {},
   "outputs": [],
   "source": []
  }
 ],
 "metadata": {
  "kernelspec": {
   "display_name": "Python 3 (ipykernel)",
   "language": "python",
   "name": "python3"
  },
  "language_info": {
   "codemirror_mode": {
    "name": "ipython",
    "version": 3
   },
   "file_extension": ".py",
   "mimetype": "text/x-python",
   "name": "python",
   "nbconvert_exporter": "python",
   "pygments_lexer": "ipython3",
   "version": "3.9.7"
  }
 },
 "nbformat": 4,
 "nbformat_minor": 5
}
