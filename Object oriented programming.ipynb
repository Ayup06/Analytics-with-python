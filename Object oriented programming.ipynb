{
 "cells": [
  {
   "cell_type": "markdown",
   "id": "a3046c71",
   "metadata": {},
   "source": [
    "### What is a CLASS?"
   ]
  },
  {
   "cell_type": "markdown",
   "id": "71078926",
   "metadata": {},
   "source": [
    "- is a blueprint \n",
    "\n",
    "- a template \n",
    "\n",
    "- structure / skeleton is same \n",
    "\n",
    "- From which object is manufactured\n",
    "\n",
    "- class gives a security\n",
    "\n",
    "- real time entity\n",
    "\n",
    "A class is a structure or template or blueprint from which object is manufactured. "
   ]
  },
  {
   "cell_type": "markdown",
   "id": "204beca4",
   "metadata": {},
   "source": [
    "Syntax\n",
    "\n",
    "class classname:\n",
    "\n",
    "    class properties"
   ]
  },
  {
   "cell_type": "markdown",
   "id": "4ea194f1",
   "metadata": {},
   "source": [
    "Class properties are divided into two\n",
    "\n",
    "1. Data members: These are variable use to store.\n",
    "\n",
    "2. Methods : These are function dedicated for a functionality."
   ]
  },
  {
   "cell_type": "markdown",
   "id": "ab402d23",
   "metadata": {},
   "source": [
    "### What is an OBJECT?"
   ]
  },
  {
   "cell_type": "markdown",
   "id": "15c76ce0",
   "metadata": {},
   "source": [
    "Object is replica of class which contains certain values for the data members."
   ]
  },
  {
   "cell_type": "markdown",
   "id": "a14f9b42",
   "metadata": {},
   "source": [
    "How can you access class properties?\n",
    "\n",
    "syntax :\n",
    "    \n",
    "object.propertyname"
   ]
  },
  {
   "cell_type": "markdown",
   "id": "1598edbf",
   "metadata": {},
   "source": [
    "syntax:\n",
    "\n",
    "class classname:\n",
    "\n",
    "     def function(self):\n",
    "        \n",
    "        pass"
   ]
  },
  {
   "cell_type": "markdown",
   "id": "0350abd8",
   "metadata": {},
   "source": [
    "self is a place holder\n",
    "\n",
    "refrence is taken in self "
   ]
  },
  {
   "cell_type": "code",
   "execution_count": 3,
   "id": "cf064400",
   "metadata": {},
   "outputs": [],
   "source": [
    "class student:\n",
    "    \n",
    "    def getdata(self):\n",
    "        self.name = input(\"Enter name: \")#s1.name=\n",
    "        self.rno = input(\"Enter roll no.: \")\n",
    "        \n",
    "    def display(self):\n",
    "        print(f\"Name: {self.name}\")\n",
    "        print(f\"Roll no. : {self.rno}\")\n",
    "        \n",
    "# two methods and two data members"
   ]
  },
  {
   "cell_type": "code",
   "execution_count": 2,
   "id": "a49433f5",
   "metadata": {},
   "outputs": [
    {
     "ename": "NameError",
     "evalue": "name 'getdata' is not defined",
     "output_type": "error",
     "traceback": [
      "\u001b[1;31m---------------------------------------------------------------------------\u001b[0m",
      "\u001b[1;31mNameError\u001b[0m                                 Traceback (most recent call last)",
      "\u001b[1;32m~\\AppData\\Local\\Temp/ipykernel_6000/679771725.py\u001b[0m in \u001b[0;36m<module>\u001b[1;34m\u001b[0m\n\u001b[1;32m----> 1\u001b[1;33m \u001b[0mgetdata\u001b[0m\u001b[1;33m(\u001b[0m\u001b[1;33m)\u001b[0m\u001b[1;33m\u001b[0m\u001b[1;33m\u001b[0m\u001b[0m\n\u001b[0m",
      "\u001b[1;31mNameError\u001b[0m: name 'getdata' is not defined"
     ]
    }
   ],
   "source": [
    "getdata() #gives error cuz object is not defined yet"
   ]
  },
  {
   "cell_type": "code",
   "execution_count": 4,
   "id": "f58660fa",
   "metadata": {},
   "outputs": [
    {
     "name": "stdout",
     "output_type": "stream",
     "text": [
      "Enter name: Ayushi\n",
      "Enter roll no.: 002\n",
      "Name: Ayushi\n",
      "Roll no. : 002\n"
     ]
    }
   ],
   "source": [
    "s = student() #object defined\n",
    "s.getdata()\n",
    "s.display()"
   ]
  },
  {
   "cell_type": "code",
   "execution_count": 5,
   "id": "363ad2be",
   "metadata": {},
   "outputs": [
    {
     "name": "stdout",
     "output_type": "stream",
     "text": [
      "Enter name: Harry\n",
      "Enter roll no.: 006\n",
      "Name: Harry\n",
      "Roll no. : 006\n"
     ]
    }
   ],
   "source": [
    "s1 = student()\n",
    "s1.getdata()\n",
    "s1.display()"
   ]
  },
  {
   "cell_type": "code",
   "execution_count": 15,
   "id": "d559d94d",
   "metadata": {},
   "outputs": [],
   "source": [
    "class employee:\n",
    "    \n",
    "    def greet(self,name):\n",
    "        print(f\"Welcome aboard {name}\")"
   ]
  },
  {
   "cell_type": "code",
   "execution_count": 17,
   "id": "1d21c365",
   "metadata": {},
   "outputs": [
    {
     "name": "stdout",
     "output_type": "stream",
     "text": [
      "<class '__main__.employee'>\n",
      "Welcome aboard Ayushi\n"
     ]
    }
   ],
   "source": [
    "e = employee()\n",
    "e.greet(\"Ayushi\")"
   ]
  },
  {
   "cell_type": "markdown",
   "id": "bc881256",
   "metadata": {},
   "source": [
    "### Constructor and Destructor"
   ]
  },
  {
   "cell_type": "markdown",
   "id": "37e8cc02",
   "metadata": {},
   "source": [
    "1. Constructor is a special method which is used to initialise object at the times of its creation.\n",
    "\n",
    "2. Name of the constructor is fixed __init__()\n",
    "\n",
    "3. Constructor are not usual function (object. is not the way of calling it)\n",
    "\n",
    "4. Constructor is automatically called when object of the class is created.\n",
    "\n",
    "------------------------------------------------------------------------\n",
    "1. Destructor is a special method which is used to destroy the object i.e free memory space allocated to the object during creation.\n",
    "\n",
    "2. Name of the destructor is fixed __del__()\n",
    "\n",
    "3. Destructor is a special function , it is automatically called when program control reaches its end."
   ]
  },
  {
   "cell_type": "code",
   "execution_count": 23,
   "id": "8c959dcc",
   "metadata": {},
   "outputs": [],
   "source": [
    "class customer:\n",
    "    def __init__(self):\n",
    "        print(\"Constructor is called\")"
   ]
  },
  {
   "cell_type": "code",
   "execution_count": 24,
   "id": "b467c313",
   "metadata": {},
   "outputs": [
    {
     "name": "stdout",
     "output_type": "stream",
     "text": [
      "Constructor is called\n"
     ]
    }
   ],
   "source": [
    "c1 = customer() #constructor is called customer(c1) => __init__(self)"
   ]
  },
  {
   "cell_type": "code",
   "execution_count": 27,
   "id": "caecea3d",
   "metadata": {},
   "outputs": [],
   "source": [
    "class customer:\n",
    "    def __init__(self):\n",
    "        \n",
    "        self.bname=\"SBI\"\n",
    "        self.branch=\"Online\"\n",
    "        self.ifsc=\"SBIN10000001\"\n",
    "        \n",
    "    def getcustomerdata(self):\n",
    "        self.name = input(\"Enter Name: \")\n",
    "        self.mob = input(\"Enter mobile no.: \")\n",
    "        \n",
    "    def putcustomerdata(self):\n",
    "        print()\n",
    "        print(\"Customer information is :\")\n",
    "        print(f\"Bank name :{self.bname}\\nBranch name : {self.branch}\\nIFSC : {self.ifsc}\\nCustomer name : {self.name}\\nMobile no.: {self.mob}\")"
   ]
  },
  {
   "cell_type": "code",
   "execution_count": 28,
   "id": "49c64ba8",
   "metadata": {},
   "outputs": [
    {
     "name": "stdout",
     "output_type": "stream",
     "text": [
      "Enter Name: Ayushi\n",
      "Enter mobile no.: 3434343434\n",
      "\n",
      "Customer information is :\n",
      "Bank name :SBI\n",
      "Branch name : Online\n",
      "IFSC : SBIN10000001\n",
      "Customer name : Ayushi\n",
      "Mobile no.: 3434343434\n"
     ]
    }
   ],
   "source": [
    "c1 = customer() #__init__(self=c1) constructor gets called\n",
    "c1.getcustomerdata()\n",
    "c1.putcustomerdata()"
   ]
  },
  {
   "cell_type": "code",
   "execution_count": 33,
   "id": "c8faf6bf",
   "metadata": {},
   "outputs": [],
   "source": [
    "class student:\n",
    "    def __init__(self):\n",
    "        print(\"Constructor is called.\")\n",
    "        \n",
    "    def __del__(self):\n",
    "        print(\"Destructor is called.\")"
   ]
  },
  {
   "cell_type": "code",
   "execution_count": 35,
   "id": "e838b7b3",
   "metadata": {},
   "outputs": [
    {
     "name": "stdout",
     "output_type": "stream",
     "text": [
      "Constructor is called.\n",
      "Destructor is called.\n",
      "Constructor is called.\n",
      "Destructor is called.\n"
     ]
    }
   ],
   "source": [
    "s1 = student()\n",
    "s2 = student()"
   ]
  },
  {
   "cell_type": "markdown",
   "id": "b61a6b57",
   "metadata": {},
   "source": [
    "## Four Pillars of OOPS"
   ]
  },
  {
   "cell_type": "markdown",
   "id": "94c0d2f9",
   "metadata": {},
   "source": [
    "1. Abstraction\n",
    "2. Encapsulation\n",
    "3. Inheritance\n",
    "4. Polymorphism"
   ]
  },
  {
   "cell_type": "markdown",
   "id": "d1e917dd",
   "metadata": {},
   "source": [
    "Abstraction : Hiding unnecessary details and showing only necessary details to user.\n",
    "\n",
    "eg.\n",
    "builtin function:\n",
    "\n",
    "print(), we dont see definition of print bt we know the function\n",
    "we dont know the unnecessary details: definition of inbuilt function\n",
    "\n",
    "necessary details: sytax is given to user."
   ]
  },
  {
   "cell_type": "markdown",
   "id": "5dab0034",
   "metadata": {},
   "source": [
    "Encapsulation : Binding data together into a single unit.\n",
    "\n",
    "provides you security \n",
    "\n",
    "eg. Class contains data members and methods that can be accessed only with the object of the class, they cannot be access as normal variable or functions outside the class."
   ]
  },
  {
   "cell_type": "markdown",
   "id": "ff30f1a5",
   "metadata": {},
   "source": [
    "To apply more security OOPS has access specifier\n",
    "\n",
    "1. public - They can be accessed inside as well as outside class.\n",
    "\n",
    "2. private - It can be accessed only within class and cannot be accessed outside the class\n",
    "     \n",
    "    __data member\n",
    "    \n",
    "    __methodname()\n",
    "    "
   ]
  },
  {
   "cell_type": "markdown",
   "id": "f8c87f49",
   "metadata": {},
   "source": [
    "### Types of variables"
   ]
  },
  {
   "cell_type": "markdown",
   "id": "d6abc0e5",
   "metadata": {},
   "source": [
    "1. Class or static variable - variable defined inside a class\n",
    "2. Instance variable - variable defined inside a method"
   ]
  },
  {
   "cell_type": "code",
   "execution_count": 56,
   "id": "82fa0580",
   "metadata": {},
   "outputs": [],
   "source": [
    "class student:\n",
    "    school_name = \"ITVEDANT\" # is a class/static variable\n",
    "    \n",
    "    def __init__(self):\n",
    "        self.name = \"Ayushi\" # Instance varialbe\n",
    "        self.rno = \"002\"\n",
    "        print(self.name,\" \",self.rno)\n",
    "        \n",
    "    def __del__(self):\n",
    "        print(\"Destructor is called\")"
   ]
  },
  {
   "cell_type": "code",
   "execution_count": 57,
   "id": "c0f1c222",
   "metadata": {},
   "outputs": [
    {
     "name": "stdout",
     "output_type": "stream",
     "text": [
      "Ayushi   002\n",
      "Destructor is called\n"
     ]
    }
   ],
   "source": [
    "st = student()"
   ]
  },
  {
   "cell_type": "code",
   "execution_count": 58,
   "id": "bee13222",
   "metadata": {},
   "outputs": [
    {
     "data": {
      "text/plain": [
       "'Ayushi'"
      ]
     },
     "execution_count": 58,
     "metadata": {},
     "output_type": "execute_result"
    }
   ],
   "source": [
    "st.name # to call a instance variable"
   ]
  },
  {
   "cell_type": "code",
   "execution_count": 59,
   "id": "5fe8e328",
   "metadata": {},
   "outputs": [
    {
     "data": {
      "text/plain": [
       "'ITVEDANT'"
      ]
     },
     "execution_count": 59,
     "metadata": {},
     "output_type": "execute_result"
    }
   ],
   "source": [
    "student.school_name # to call a class variable"
   ]
  },
  {
   "cell_type": "code",
   "execution_count": 60,
   "id": "a05f03d3",
   "metadata": {},
   "outputs": [
    {
     "name": "stdout",
     "output_type": "stream",
     "text": [
      "School\n"
     ]
    }
   ],
   "source": [
    "st.school_name = \"School\"\n",
    "print(st.school_name) # to chnage class variable for particular object"
   ]
  },
  {
   "cell_type": "code",
   "execution_count": 61,
   "id": "a5d612b1",
   "metadata": {},
   "outputs": [
    {
     "name": "stdout",
     "output_type": "stream",
     "text": [
      "New\n"
     ]
    }
   ],
   "source": [
    "student.school_name = \"New\"\n",
    "print(student.school_name) # to change class variable for all the objects"
   ]
  },
  {
   "cell_type": "markdown",
   "id": "25849478",
   "metadata": {},
   "source": [
    "### Types of method"
   ]
  },
  {
   "cell_type": "markdown",
   "id": "9a2d1d9e",
   "metadata": {},
   "source": [
    "1. Instance method = when in method only self comes as an argument.\n",
    "2. Class method = when you directly call from class on object.\n",
    "3. Static method = A static method is a method which is bound to the class and not the object of the class."
   ]
  },
  {
   "cell_type": "markdown",
   "id": "64d43308",
   "metadata": {},
   "source": [
    "### Inheritance"
   ]
  },
  {
   "cell_type": "markdown",
   "id": "63902743",
   "metadata": {},
   "source": [
    "Need - \n",
    "\n",
    "- Reuseability of code\n",
    "- If there is need to use code from exixting class into another class then use inheritance.\n",
    "\n",
    "What is inheritance?\n",
    "\n",
    "- The process of deriving one class from another class is called as Inheritance.\n",
    "\n",
    "- The class which is derived from another class is called as DERIVED CLASS OR CHILD CLASS\n",
    "- The class from which another class is derived is called as BASE CLASS OR PARENT CLASS\n",
    "\n",
    "Syntax:\n",
    "\n",
    "class baseclassname:\n",
    "      \n",
    "      body of base class\n",
    " \n",
    "class derivedclassname(baseclassname):\n",
    "      \n",
    "      body of derived class"
   ]
  },
  {
   "cell_type": "markdown",
   "id": "bda6d3ff",
   "metadata": {},
   "source": [
    "Types of Inheritence :\n",
    "    \n",
    "1. Single\n",
    "2. Multilevel\n",
    "3. Multiple\n",
    "4. Hierarchical\n",
    "5. hybrid"
   ]
  },
  {
   "cell_type": "code",
   "execution_count": 62,
   "id": "c0a03324",
   "metadata": {},
   "outputs": [],
   "source": [
    "# single inheritance \n",
    "# there is one base class and one derived class\n",
    "\n",
    "class A:\n",
    "    def geta(self):\n",
    "        self.a = int(input(\"Enter value of a :\"))\n",
    "class B(A):\n",
    "    def getb(self):\n",
    "        self.b = int(input(\"Enter value of b : \"))\n",
    "        \n",
    "    def addition(self):\n",
    "        total = self.a+self.b\n",
    "        print(f\"Addition is {total}\")"
   ]
  },
  {
   "cell_type": "code",
   "execution_count": 67,
   "id": "78acb37e",
   "metadata": {},
   "outputs": [
    {
     "name": "stdout",
     "output_type": "stream",
     "text": [
      "Enter value of a :3\n",
      "Enter value of b : 4\n"
     ]
    }
   ],
   "source": [
    "# since B is derived from A so we call the object from B\n",
    "b = B()\n",
    "b.geta() #geta(b)\n",
    "b.getb() #getb(b)"
   ]
  },
  {
   "cell_type": "code",
   "execution_count": 68,
   "id": "90dd0eea",
   "metadata": {},
   "outputs": [
    {
     "name": "stdout",
     "output_type": "stream",
     "text": [
      "Addition is 7\n"
     ]
    }
   ],
   "source": [
    "b.addition() #addition(b)"
   ]
  },
  {
   "cell_type": "code",
   "execution_count": 69,
   "id": "52988408",
   "metadata": {},
   "outputs": [],
   "source": [
    "# Multilevel Inheretance\n",
    "class A:\n",
    "    def geta(self):\n",
    "        self.a = 3\n",
    "class B(A):\n",
    "    def getb(self):\n",
    "        self.b = 5\n",
    "class C(B):\n",
    "    def addition(self):\n",
    "        add = self.a + self.b\n",
    "        print(add)"
   ]
  },
  {
   "cell_type": "code",
   "execution_count": 70,
   "id": "d2cb7812",
   "metadata": {},
   "outputs": [
    {
     "name": "stdout",
     "output_type": "stream",
     "text": [
      "8\n"
     ]
    }
   ],
   "source": [
    "c = C()\n",
    "c.geta()\n",
    "c.getb()\n",
    "c.addition()"
   ]
  },
  {
   "cell_type": "markdown",
   "id": "764e3ee3",
   "metadata": {},
   "source": [
    "## Multiple inheretance \n",
    "The inheretance in which there are many base classes and only one derived class "
   ]
  },
  {
   "cell_type": "code",
   "execution_count": 1,
   "id": "45c9a858",
   "metadata": {},
   "outputs": [],
   "source": [
    "class A:\n",
    "    def geta(self):\n",
    "        self.a = int(input(\"Enter value of a: \"))\n",
    "class B:\n",
    "    def getb(self):\n",
    "        self.b =  int(input(\"Enter value of b: \"))\n",
    "class C(A,B):\n",
    "    def addition(self):\n",
    "        total = self.a + self.b\n",
    "        print(total)"
   ]
  },
  {
   "cell_type": "code",
   "execution_count": 2,
   "id": "5b009a67",
   "metadata": {},
   "outputs": [
    {
     "name": "stdout",
     "output_type": "stream",
     "text": [
      "Enter value of a: 4\n",
      "Enter value of b: 5\n",
      "9\n"
     ]
    }
   ],
   "source": [
    "c1 = C()\n",
    "c1.geta() #geta(c1)\n",
    "c1.getb() #getb(c1)\n",
    "c1.addition() #addition(c1)"
   ]
  },
  {
   "cell_type": "markdown",
   "id": "a4a79143",
   "metadata": {},
   "source": [
    "# Hierarchical Inheretance\n",
    "The inheretance in which there is only on base class and many derived classes"
   ]
  },
  {
   "cell_type": "code",
   "execution_count": 3,
   "id": "78f5894e",
   "metadata": {},
   "outputs": [],
   "source": [
    "class A:\n",
    "    def geta(self):\n",
    "        self.a = int(input(\"Enter value of a: \"))\n",
    "class B(A):\n",
    "    def getb(self):\n",
    "        self.b = int(input(\"Enter value of b: \"))\n",
    "    def add(self):\n",
    "        total = self.a +self.b\n",
    "        print(f\"total is {total}\")\n",
    "class C(A):\n",
    "    def getc(self):\n",
    "        self.c = int(input(\"Enter value of c: \"))\n",
    "    def add(self):\n",
    "        total2 = self.a + self.c\n",
    "        print(f\"total of a and c is {total2}\")"
   ]
  },
  {
   "cell_type": "code",
   "execution_count": 4,
   "id": "e10ce041",
   "metadata": {},
   "outputs": [
    {
     "name": "stdout",
     "output_type": "stream",
     "text": [
      "Enter value of a: 4\n",
      "Enter value of b: 5\n",
      "total is 9\n"
     ]
    }
   ],
   "source": [
    "b1 = B()\n",
    "b1.geta()\n",
    "b1.getb()\n",
    "b1.add()"
   ]
  },
  {
   "cell_type": "code",
   "execution_count": 5,
   "id": "9f77d06c",
   "metadata": {},
   "outputs": [
    {
     "name": "stdout",
     "output_type": "stream",
     "text": [
      "Enter value of a: 7\n",
      "Enter value of c: 8\n",
      "total of a and c is 15\n"
     ]
    }
   ],
   "source": [
    "c1 = C()\n",
    "c1.geta()\n",
    "c1.getc()\n",
    "c1.add()"
   ]
  },
  {
   "cell_type": "markdown",
   "id": "490b5147",
   "metadata": {},
   "source": [
    "Hybrid inheretance is mixture of 2 or more inheretance"
   ]
  },
  {
   "cell_type": "code",
   "execution_count": 9,
   "id": "2b1a42bf",
   "metadata": {},
   "outputs": [],
   "source": [
    "class base:\n",
    "    def geta(self):\n",
    "        self.a = 4\n",
    "class derived1(base):\n",
    "    def getb(self):\n",
    "        self.b = 5\n",
    "class derived2(base):\n",
    "    def getc(self):\n",
    "        self.c = 6\n",
    "class multiple(derived1,derived2):\n",
    "    def add(self):\n",
    "        add = self.a + self.b + self.c\n",
    "        print(add)"
   ]
  },
  {
   "cell_type": "code",
   "execution_count": 10,
   "id": "d86584be",
   "metadata": {},
   "outputs": [
    {
     "name": "stdout",
     "output_type": "stream",
     "text": [
      "15\n"
     ]
    }
   ],
   "source": [
    "m = multiple()\n",
    "m.geta()\n",
    "m.getb()\n",
    "m.getc()\n",
    "m.add()"
   ]
  },
  {
   "cell_type": "markdown",
   "id": "55499ee3",
   "metadata": {},
   "source": [
    "# Method Overriding"
   ]
  },
  {
   "cell_type": "markdown",
   "id": "51f23e10",
   "metadata": {},
   "source": [
    "- method overriding happens when base class and derived are having same method name but with different body\n",
    "- So a call to that method by derived class object will always call derived class method and base class method is not executed.\n",
    "- Thus derived class method override base class method"
   ]
  },
  {
   "cell_type": "code",
   "execution_count": 13,
   "id": "03011389",
   "metadata": {},
   "outputs": [],
   "source": [
    "class A:\n",
    "    def greet(self):\n",
    "        print(\"Hello i am in class A\")\n",
    "class B(A):\n",
    "    def greet(self):\n",
    "        super().greet() # super -> base class\n",
    "        print(\"Hello i am in class B\")"
   ]
  },
  {
   "cell_type": "code",
   "execution_count": 14,
   "id": "61669ce8",
   "metadata": {},
   "outputs": [
    {
     "name": "stdout",
     "output_type": "stream",
     "text": [
      "Hello i am in class A\n",
      "Hello i am in class B\n"
     ]
    }
   ],
   "source": [
    "b1 = B()\n",
    "b1.greet()"
   ]
  },
  {
   "cell_type": "code",
   "execution_count": 17,
   "id": "6621665f",
   "metadata": {},
   "outputs": [],
   "source": [
    "# Constructor overriding\n",
    "class A:\n",
    "    def __init__(self):\n",
    "        print(\"Hello from A class constructor\")\n",
    "class B(A):\n",
    "    def __init__(self):\n",
    "        super().__init__()\n",
    "        print(\"Hello from B class constructor\")"
   ]
  },
  {
   "cell_type": "code",
   "execution_count": 18,
   "id": "8b8acd8a",
   "metadata": {},
   "outputs": [
    {
     "name": "stdout",
     "output_type": "stream",
     "text": [
      "Hello from A class constructor\n",
      "Hello from B class constructor\n"
     ]
    }
   ],
   "source": [
    "b1 = B()"
   ]
  },
  {
   "cell_type": "markdown",
   "id": "58844c71",
   "metadata": {},
   "source": [
    "# Polymorphism"
   ]
  },
  {
   "cell_type": "markdown",
   "id": "a27329c4",
   "metadata": {},
   "source": [
    "- Poly : many\n",
    "- morphism : forms\n",
    "\n",
    "One person have many roles in life.\n",
    "\n",
    "- One employee is playing roles with different responsibilities in company.\n",
    "(overloaded with tasks)\n",
    "\n",
    "- Polumorphism can be achieved by OPERATOR OVERLOADING\n",
    "- One operator performing different tasks"
   ]
  },
  {
   "cell_type": "code",
   "execution_count": 19,
   "id": "38ebb2b4",
   "metadata": {},
   "outputs": [
    {
     "name": "stdout",
     "output_type": "stream",
     "text": [
      "12\n"
     ]
    }
   ],
   "source": [
    "x = 10 \n",
    "y = 2\n",
    "print(x+y)\n",
    "# \"+\" is playing a role of arithmetic plus operator"
   ]
  },
  {
   "cell_type": "code",
   "execution_count": 20,
   "id": "747090de",
   "metadata": {},
   "outputs": [
    {
     "name": "stdout",
     "output_type": "stream",
     "text": [
      "AyushiPadamwar\n"
     ]
    }
   ],
   "source": [
    "x = \"Ayushi\"\n",
    "y = \"Padamwar\"\n",
    "print(x+y)\n",
    "# \"+\" is playing a role of concatenation"
   ]
  },
  {
   "cell_type": "markdown",
   "id": "91d3f3f0",
   "metadata": {},
   "source": [
    "So here \"+\" is playing  two tasks arithmetic addition and concatenation"
   ]
  }
 ],
 "metadata": {
  "kernelspec": {
   "display_name": "Python 3 (ipykernel)",
   "language": "python",
   "name": "python3"
  },
  "language_info": {
   "codemirror_mode": {
    "name": "ipython",
    "version": 3
   },
   "file_extension": ".py",
   "mimetype": "text/x-python",
   "name": "python",
   "nbconvert_exporter": "python",
   "pygments_lexer": "ipython3",
   "version": "3.9.7"
  }
 },
 "nbformat": 4,
 "nbformat_minor": 5
}
