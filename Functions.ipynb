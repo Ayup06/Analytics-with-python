{
 "cells": [
  {
   "cell_type": "markdown",
   "id": "b56d3e85",
   "metadata": {},
   "source": [
    "# FUNCTIONS"
   ]
  },
  {
   "cell_type": "markdown",
   "id": "febd8098",
   "metadata": {},
   "source": [
    "def function_name(arguments):\n",
    "    \n",
    "    \"doc string\"\n",
    "    \n",
    "    body of function\n",
    "    \n",
    "    return statement\n"
   ]
  },
  {
   "cell_type": "markdown",
   "id": "b652b7e9",
   "metadata": {},
   "source": [
    "Why we use function?\n",
    "\n",
    "1.reuseability\n",
    "\n",
    "2.defining function only once and calling it n number of times\n",
    "\n",
    "What is a function?\n",
    "\n",
    "Function is a block of codes that is written once and used many times whenever required by giving call to the function.\n",
    "\n",
    "Types of arguments:\n",
    "\n",
    "1.required arguments\n",
    "\n",
    "2.Default arguments\n",
    "\n",
    "3.key value pair arguments\n",
    "\n",
    "4.variable lenght argument (tuple and dictionary)\n",
    "\n",
    "\n",
    "Return Statement returns more than one value from function - YES\n",
    "Must be seperated with comma.\n"
   ]
  },
  {
   "cell_type": "code",
   "execution_count": 5,
   "id": "e8cddd67",
   "metadata": {},
   "outputs": [],
   "source": [
    "# write a function that accept a number and returns factorial of the number\n",
    "def facto(n):\n",
    "    \"gives factorial of a number\"\n",
    "    fact = 1\n",
    "    for i in range(1,n+1):\n",
    "        fact=fact*i\n",
    "    #print(fact)\n",
    "    return fact"
   ]
  },
  {
   "cell_type": "code",
   "execution_count": 7,
   "id": "1115a39a",
   "metadata": {},
   "outputs": [
    {
     "name": "stdout",
     "output_type": "stream",
     "text": [
      "Enter number: 5\n",
      "Factorial of 5 is 120\n"
     ]
    }
   ],
   "source": [
    "num = int(input(\"Enter number: \"))\n",
    "ans = facto(num) # calling function\n",
    "print(f\"Factorial of {num} is {ans}\")"
   ]
  },
  {
   "cell_type": "code",
   "execution_count": 16,
   "id": "3e77bbb4",
   "metadata": {},
   "outputs": [],
   "source": [
    "# ARBITRARY ARGUMENTS\n",
    "# *\n",
    "# will return a tuple\n",
    "def arb(*greetings):\n",
    "    for i in greetings:\n",
    "        print(f\"Hello, {i}\")"
   ]
  },
  {
   "cell_type": "code",
   "execution_count": 17,
   "id": "62084c17",
   "metadata": {},
   "outputs": [
    {
     "name": "stdout",
     "output_type": "stream",
     "text": [
      "Hello, Good morning\n",
      "Hello, How are you\n"
     ]
    }
   ],
   "source": [
    "arb(\"Good morning\",\"How are you\")"
   ]
  },
  {
   "cell_type": "code",
   "execution_count": 38,
   "id": "995d2fd2",
   "metadata": {},
   "outputs": [],
   "source": [
    "# KEYWORD ARGUMENTS\n",
    "# **\n",
    "# Dictionary\n",
    "def key(**names):\n",
    "    for key,value in names.items():\n",
    "        print(f\"{key} :{value}\") "
   ]
  },
  {
   "cell_type": "code",
   "execution_count": 43,
   "id": "b0cef8a3",
   "metadata": {},
   "outputs": [
    {
     "name": "stdout",
     "output_type": "stream",
     "text": [
      "name_a :Ayushi\n",
      "name_b :Yukta\n"
     ]
    }
   ],
   "source": [
    "key(name_a =\"Ayushi\",name_b = \"Yukta\")"
   ]
  },
  {
   "cell_type": "markdown",
   "id": "88be3af4",
   "metadata": {},
   "source": [
    "Global Varibles :\n",
    "A variable defined outside a function is global variable.\n",
    "\n",
    "Local Variables:\n",
    "A variable defined inside a function is local variable."
   ]
  },
  {
   "cell_type": "code",
   "execution_count": 47,
   "id": "4f86e698",
   "metadata": {},
   "outputs": [],
   "source": [
    "msg = \"Hey, I am a global variable.\"\n",
    "\n",
    "def inside():\n",
    "    msg = \"Hey, I am a local variable.\"\n",
    "    print(f\"I am inside a function\\n{msg}\")"
   ]
  },
  {
   "cell_type": "code",
   "execution_count": 48,
   "id": "21e25d52",
   "metadata": {},
   "outputs": [
    {
     "name": "stdout",
     "output_type": "stream",
     "text": [
      "I am inside a function\n",
      "Hey, I am a local variable.\n"
     ]
    }
   ],
   "source": [
    "inside()"
   ]
  },
  {
   "cell_type": "code",
   "execution_count": 49,
   "id": "1b57813a",
   "metadata": {},
   "outputs": [
    {
     "name": "stdout",
     "output_type": "stream",
     "text": [
      "I am outside a function\n",
      "Hey, I am a global variable.\n"
     ]
    }
   ],
   "source": [
    "print(f\"I am outside a function\\n{msg}\")"
   ]
  },
  {
   "cell_type": "markdown",
   "id": "c5dfbbb4",
   "metadata": {},
   "source": [
    "Another way to define a function is using Anonymous function i.e lambda function\n",
    "\n",
    "Syntax:\n",
    "\n",
    "lambda arguments:expressions"
   ]
  },
  {
   "cell_type": "code",
   "execution_count": 2,
   "id": "6051fc1e",
   "metadata": {},
   "outputs": [],
   "source": [
    "square = lambda x:x**2"
   ]
  },
  {
   "cell_type": "code",
   "execution_count": 3,
   "id": "2e2aba88",
   "metadata": {},
   "outputs": [
    {
     "data": {
      "text/plain": [
       "16"
      ]
     },
     "execution_count": 3,
     "metadata": {},
     "output_type": "execute_result"
    }
   ],
   "source": [
    "square(4)"
   ]
  },
  {
   "cell_type": "markdown",
   "id": "71c651c2",
   "metadata": {},
   "source": [
    "# lambda function\n",
    "The function without name is called as lambda function.\n",
    "\n",
    "Need:\n",
    "- when there is need to pass a function as an argument to another function then we use lambda function."
   ]
  },
  {
   "cell_type": "markdown",
   "id": "0b5473c0",
   "metadata": {},
   "source": [
    "Syntax:\n",
    "    \n",
    "    variable = lambda parameters:expression"
   ]
  },
  {
   "cell_type": "code",
   "execution_count": 4,
   "id": "e429417e",
   "metadata": {},
   "outputs": [],
   "source": [
    "x = lambda a,b:a+b"
   ]
  },
  {
   "cell_type": "code",
   "execution_count": 7,
   "id": "1b2c1ad3",
   "metadata": {},
   "outputs": [
    {
     "name": "stdout",
     "output_type": "stream",
     "text": [
      "30\n"
     ]
    }
   ],
   "source": [
    "r = x(10,20)\n",
    "print(r)"
   ]
  },
  {
   "cell_type": "code",
   "execution_count": 11,
   "id": "ad248e62",
   "metadata": {},
   "outputs": [
    {
     "name": "stdout",
     "output_type": "stream",
     "text": [
      "[10, 20, 30, 32]\n"
     ]
    }
   ],
   "source": [
    "l = [-12,10,-20,20,30,-4,32]\n",
    "f = list(filter(lambda x:x>0, l)) # => (lambda x:x>10, l)\n",
    "print(f)"
   ]
  }
 ],
 "metadata": {
  "kernelspec": {
   "display_name": "Python 3 (ipykernel)",
   "language": "python",
   "name": "python3"
  },
  "language_info": {
   "codemirror_mode": {
    "name": "ipython",
    "version": 3
   },
   "file_extension": ".py",
   "mimetype": "text/x-python",
   "name": "python",
   "nbconvert_exporter": "python",
   "pygments_lexer": "ipython3",
   "version": "3.9.7"
  }
 },
 "nbformat": 4,
 "nbformat_minor": 5
}
