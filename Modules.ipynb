{
 "cells": [
  {
   "cell_type": "markdown",
   "id": "c5cfbf52",
   "metadata": {},
   "source": [
    "# MODULES"
   ]
  },
  {
   "cell_type": "markdown",
   "id": "6701e581",
   "metadata": {},
   "source": [
    "Need of module : reuseability\n",
    "write code ones and importing that codes in other various files\n",
    "\n",
    "Module is a python file which contains code and can be imported across many python file to reuse code written in module, to achieve reuseability of codes.\n",
    "\n",
    "What is module?\n",
    "\n",
    "Module is a python file which contains pre-defined functions, classes and constants.\n",
    "\n",
    "Some modules : math,string,random,os"
   ]
  },
  {
   "cell_type": "markdown",
   "id": "130b0874",
   "metadata": {},
   "source": [
    "#### Different ways to import modules"
   ]
  },
  {
   "cell_type": "markdown",
   "id": "77c68f6e",
   "metadata": {},
   "source": [
    "1. import modulename\n",
    "\n",
    "2. import modulename as alias / providing diff name to module\n",
    "\n",
    "import seaborn as sns\n",
    "\n",
    "3. import specific funtionality from module\n",
    "\n",
    "from sklearn.model_selection import train_test_split \n",
    "\n",
    "(train_test_split is a function, sklearn.model_selection is module)\n",
    "\n",
    "4. import everything from module\n",
    "\n",
    "from sklearn import *"
   ]
  },
  {
   "cell_type": "markdown",
   "id": "e5a483e3",
   "metadata": {},
   "source": [
    "How to install a modlule?\n",
    "\n",
    "pip is a package installation manager.\n",
    "\n",
    "pip is used to install external packages\n",
    "\n",
    "-pip install modulename/packagename\n",
    "\n",
    "-pip uninstall modulename/packagename\n",
    "\n",
    "-pip freeze (to check installed modules)"
   ]
  },
  {
   "cell_type": "markdown",
   "id": "8f37da19",
   "metadata": {},
   "source": [
    "What is the difference between module and  packages ? \n",
    "\n",
    "Module is a python file which contains pre-defined functions, classes and constants.\n",
    "\n",
    "Package is a folder which is collection of modules."
   ]
  },
  {
   "cell_type": "code",
   "execution_count": null,
   "id": "e98df9c1",
   "metadata": {},
   "outputs": [],
   "source": []
  }
 ],
 "metadata": {
  "kernelspec": {
   "display_name": "Python 3 (ipykernel)",
   "language": "python",
   "name": "python3"
  },
  "language_info": {
   "codemirror_mode": {
    "name": "ipython",
    "version": 3
   },
   "file_extension": ".py",
   "mimetype": "text/x-python",
   "name": "python",
   "nbconvert_exporter": "python",
   "pygments_lexer": "ipython3",
   "version": "3.9.7"
  }
 },
 "nbformat": 4,
 "nbformat_minor": 5
}
